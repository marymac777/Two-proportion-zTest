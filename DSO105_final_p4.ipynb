{
 "cells": [
  {
   "cell_type": "code",
   "execution_count": 2,
   "id": "1da08e10-66ef-4922-9fe5-e60c06205a7e",
   "metadata": {},
   "outputs": [],
   "source": [
    "import pandas as pd\n",
    "import numpy as np\n",
    "import seaborn as sns\n",
    "import scipy \n",
    "from scipy import stats\n",
    "from statsmodels.stats.multicomp import pairwise_tukeyhsd\n",
    "from statsmodels.stats.multicomp import MultiComparison\n",
    "from statsmodels.stats.proportion import proportions_ztest"
   ]
  },
  {
   "cell_type": "markdown",
   "id": "3a9772c5-3935-4dc9-968d-cf77de3a24e1",
   "metadata": {},
   "source": [
    "### Scenario 4 \n",
    "#### Compare with and without schoolage children favorable and unfavorable\n",
    "#### Run a two proportion Ztest"
   ]
  },
  {
   "cell_type": "code",
   "execution_count": 6,
   "id": "08b51b04-4117-41f4-bd38-e526d98d83ea",
   "metadata": {},
   "outputs": [
    {
     "name": "stdout",
     "output_type": "stream",
     "text": [
      "-2.281207889910619 0.02253614810275046\n"
     ]
    }
   ],
   "source": [
    "count = np.array([171, 74])\n",
    "nobs = np.array([374, 129])\n",
    "\n",
    "stats, pval = proportions_ztest(count, nobs)\n",
    "print(stats, pval)"
   ]
  },
  {
   "cell_type": "markdown",
   "id": "e8ee041c-8f72-46d4-a89e-87440de9de54",
   "metadata": {},
   "source": [
    "#### The P value is 0.02 so there is in fact a significant difference in favorability or opposition depending on the demograph"
   ]
  },
  {
   "cell_type": "code",
   "execution_count": null,
   "id": "90f4952f-2f56-48bc-898e-4005e38b846b",
   "metadata": {},
   "outputs": [],
   "source": []
  }
 ],
 "metadata": {
  "kernelspec": {
   "display_name": "Python 3 (ipykernel)",
   "language": "python",
   "name": "python3"
  },
  "language_info": {
   "codemirror_mode": {
    "name": "ipython",
    "version": 3
   },
   "file_extension": ".py",
   "mimetype": "text/x-python",
   "name": "python",
   "nbconvert_exporter": "python",
   "pygments_lexer": "ipython3",
   "version": "3.9.10"
  }
 },
 "nbformat": 4,
 "nbformat_minor": 5
}
